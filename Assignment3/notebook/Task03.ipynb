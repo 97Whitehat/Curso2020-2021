{
  "nbformat": 4,
  "nbformat_minor": 0,
  "metadata": {
    "colab": {
      "name": "Task03.ipynb",
      "provenance": [],
      "collapsed_sections": []
    },
    "kernelspec": {
      "name": "python3",
      "display_name": "Python 3"
    }
  },
  "cells": [
    {
      "cell_type": "markdown",
      "metadata": {
        "id": "e-bs2rTSdTWK",
        "colab_type": "text"
      },
      "source": [
        "**TASK 3: Statement-based query**"
      ]
    },
    {
      "cell_type": "code",
      "metadata": {
        "id": "1nL5f5LXIU64",
        "colab_type": "code",
        "colab": {
          "base_uri": "https://localhost:8080/",
          "height": 187
        },
        "outputId": "5a9ca105-9409-4efb-d0e2-34abc2dddd2c"
      },
      "source": [
        "!pip install rdflib\n",
        "github_storage = \"https://raw.githubusercontent.com/FacultadInformatica-LinkedData/Curso2020-2021/master/Assignment3\""
      ],
      "execution_count": null,
      "outputs": [
        {
          "output_type": "stream",
          "text": [
            "Collecting rdflib\n",
            "\u001b[?25l  Downloading https://files.pythonhosted.org/packages/d0/6b/6454aa1db753c0f8bc265a5bd5c10b5721a4bb24160fb4faf758cf6be8a1/rdflib-5.0.0-py3-none-any.whl (231kB)\n",
            "\u001b[K     |████████████████████████████████| 235kB 2.6MB/s \n",
            "\u001b[?25hCollecting isodate\n",
            "\u001b[?25l  Downloading https://files.pythonhosted.org/packages/9b/9f/b36f7774ff5ea8e428fdcfc4bb332c39ee5b9362ddd3d40d9516a55221b2/isodate-0.6.0-py2.py3-none-any.whl (45kB)\n",
            "\u001b[K     |████████████████████████████████| 51kB 5.3MB/s \n",
            "\u001b[?25hRequirement already satisfied: pyparsing in /usr/local/lib/python3.6/dist-packages (from rdflib) (2.4.7)\n",
            "Requirement already satisfied: six in /usr/local/lib/python3.6/dist-packages (from rdflib) (1.15.0)\n",
            "Installing collected packages: isodate, rdflib\n",
            "Successfully installed isodate-0.6.0 rdflib-5.0.0\n"
          ],
          "name": "stdout"
        }
      ]
    },
    {
      "cell_type": "markdown",
      "metadata": {
        "id": "Q2MKrR3ko_OX",
        "colab_type": "text"
      },
      "source": [
        "Importamos example3.rdf en nuestro grafo"
      ]
    },
    {
      "cell_type": "code",
      "metadata": {
        "id": "hoa1F3UZjPJB",
        "colab_type": "code",
        "colab": {
          "base_uri": "https://localhost:8080/",
          "height": 34
        },
        "outputId": "c212e3f2-9136-4c58-d861-8476d13ff1f1"
      },
      "source": [
        "from rdflib import Graph, Namespace, Literal\n",
        "g = Graph()\n",
        "g.parse(github_storage+\"/resources/example3.rdf\", format=\"xml\")"
      ],
      "execution_count": null,
      "outputs": [
        {
          "output_type": "execute_result",
          "data": {
            "text/plain": [
              "<Graph identifier=Nfc2c405f67c7425085414fd5cf61bc45 (<class 'rdflib.graph.Graph'>)>"
            ]
          },
          "metadata": {
            "tags": []
          },
          "execution_count": 2
        }
      ]
    },
    {
      "cell_type": "markdown",
      "metadata": {
        "id": "N91ApjNcoWUb",
        "colab_type": "text"
      },
      "source": [
        "Listamos todos los recursos con la propiedad VCARD:FN"
      ]
    },
    {
      "cell_type": "code",
      "metadata": {
        "id": "HZvdSsYPob9c",
        "colab_type": "code",
        "colab": {}
      },
      "source": [
        "VCARD = Namespace(\"http://www.w3.org/2001/vcard-rdf/3.0#\")\n",
        "\n",
        "for s,p,o in g.triples((None, VCARD.FN, None)):\n",
        "  print(s)"
      ],
      "execution_count": null,
      "outputs": []
    },
    {
      "cell_type": "markdown",
      "metadata": {
        "id": "AwON24ezpGER",
        "colab_type": "text"
      },
      "source": [
        "Listamos ahora el nombre completo (VCARD:FN) de estos recursos"
      ]
    },
    {
      "cell_type": "code",
      "metadata": {
        "id": "GuUH14N_qMw5",
        "colab_type": "code",
        "colab": {}
      },
      "source": [
        "for s,p,o in g.triples((None, VCARD.FN, None)):\n",
        "  print(o)"
      ],
      "execution_count": null,
      "outputs": []
    },
    {
      "cell_type": "markdown",
      "metadata": {
        "id": "Li7h14r1qdNC",
        "colab_type": "text"
      },
      "source": [
        "Listamos ahora todos los recursos que tienen el nombre de familia \"Smith\", debemos tener en cuenta el tipo de dato de nuestro literales a la hora de realizar búsquedas. En nuestro ejemplo los literales están tipados como XSD String (http://www.w3.org/2001/XMLSchema#string) y al buscar debemos indicarlo, de lo contrario la comparación fallará aunque las cadenas de texto sean iguales."
      ]
    },
    {
      "cell_type": "code",
      "metadata": {
        "id": "U8yF1N5IqqIx",
        "colab_type": "code",
        "colab": {}
      },
      "source": [
        "from rdflib import XSD\n",
        "for t in g.triples((None, VCARD.Family, Literal('Smith', datatype=XSD.string))):\n",
        "  print(t)"
      ],
      "execution_count": null,
      "outputs": []
    },
    {
      "cell_type": "code",
      "metadata": {
        "id": "G8ZwYJAAr_a-",
        "colab_type": "code",
        "colab": {}
      },
      "source": [
        "print(Literal(1, datatype=XSD.number).eq(Literal(\"1\", datatype=XSD.string)))\n",
        "print(Literal(1, datatype=XSD.number).eq(Literal(1, datatype=XSD.string)))\n",
        "print(Literal(1).eq(Literal(1, datatype=XSD.number)))\n",
        "print(Literal(1, datatype=XSD.number).eq(Literal(1, datatype=XSD.number)))\n",
        "print(Literal(1).datatype)\n",
        "print(Literal(\"1\").datatype)"
      ],
      "execution_count": null,
      "outputs": []
    },
    {
      "cell_type": "markdown",
      "metadata": {
        "id": "JH874OClyxdV",
        "colab_type": "text"
      },
      "source": [
        "Listamos todos los recursos que contienen un email"
      ]
    },
    {
      "cell_type": "code",
      "metadata": {
        "id": "Wi4kiUdty6KW",
        "colab_type": "code",
        "colab": {
          "base_uri": "https://localhost:8080/",
          "height": 51
        },
        "outputId": "0cc44c4f-6dae-412a-d89c-44f34642cf45"
      },
      "source": [
        "FOAF = Namespace(\"http://xmlns.com/foaf/0.1/\")\n",
        "for s,p,o in g.triples((None, FOAF.email, None)):\n",
        "  print(s,p,o)"
      ],
      "execution_count": null,
      "outputs": [
        {
          "output_type": "stream",
          "text": [
            "http://somewhere#JaneSmith http://xmlns.com/foaf/0.1/email jSmith@somewhere.com\n",
            "http://somewhere#SarahJones http://xmlns.com/foaf/0.1/email sJones@somewhere.com\n"
          ],
          "name": "stdout"
        }
      ]
    },
    {
      "cell_type": "markdown",
      "metadata": {
        "id": "HAKPjbEf3WxX",
        "colab_type": "text"
      },
      "source": [
        "Listamos ahora todos los sujetos que conocen a \"Jane Smith\" (VCARD:FN) por su nombre de pila (VCARD:Given). Cuando sepamos que vamos a obtener un solo resultado podemos emplear la función value indicando cada parámetro conocido (solo uno debe ser None)."
      ]
    },
    {
      "cell_type": "code",
      "metadata": {
        "colab_type": "code",
        "id": "dGSw7O-c3pCr",
        "colab": {}
      },
      "source": [
        "janeSmithURI = g.value(subject=None, predicate=VCARD.FN, object=Literal(\"Jane Smith\"))\n",
        "\n",
        "knows = g.triples((None, FOAF.knows, janeSmithURI))\n",
        "\n",
        "for s,p,o in knows:\n",
        "  \n",
        "  givenName = g.value(subject=s, predicate=VCARD.Given, object=None)\n",
        "\n",
        "  print(givenName)"
      ],
      "execution_count": null,
      "outputs": []
    }
  ]
}